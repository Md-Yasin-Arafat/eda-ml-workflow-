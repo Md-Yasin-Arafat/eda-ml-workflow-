{
 "cells": [
  {
   "cell_type": "code",
   "execution_count": 1,
   "id": "a141eaf7",
   "metadata": {
    "_cell_guid": "b1076dfc-b9ad-4769-8c92-a6c4dae69d19",
    "_uuid": "8f2839f25d086af736a60e9eeb907d3b93b6e0e5",
    "execution": {
     "iopub.execute_input": "2025-05-29T06:28:11.771688Z",
     "iopub.status.busy": "2025-05-29T06:28:11.771385Z",
     "iopub.status.idle": "2025-05-29T06:28:16.111378Z",
     "shell.execute_reply": "2025-05-29T06:28:16.110373Z"
    },
    "papermill": {
     "duration": 4.34786,
     "end_time": "2025-05-29T06:28:16.113238",
     "exception": false,
     "start_time": "2025-05-29T06:28:11.765378",
     "status": "completed"
    },
    "tags": []
   },
   "outputs": [
    {
     "name": "stdout",
     "output_type": "stream",
     "text": [
      "/kaggle/input/social-media-addiction-vs-relationships/Students Social Media Addiction.csv\n"
     ]
    }
   ],
   "source": [
    "# This Python 3 environment comes with many helpful analytics libraries installed\n",
    "# It is defined by the kaggle/python Docker image: https://github.com/kaggle/docker-python\n",
    "# For example, here's several helpful packages to load\n",
    "\n",
    "import numpy as np # linear algebra\n",
    "import pandas as pd # data processing, CSV file I/O (e.g. pd.read_csv)\n",
    "import seaborn as sns\n",
    "import matplotlib.pyplot as plt\n",
    "\n",
    "# Input data files are available in the read-only \"../input/\" directory\n",
    "# For example, running this (by clicking run or pressing Shift+Enter) will list all files under the input directory\n",
    "\n",
    "import os\n",
    "for dirname, _, filenames in os.walk('/kaggle/input'):\n",
    "    for filename in filenames:\n",
    "        print(os.path.join(dirname, filename))\n",
    "\n",
    "# You can write up to 20GB to the current directory (/kaggle/working/) that gets preserved as output when you create a version using \"Save & Run All\" \n",
    "# You can also write temporary files to /kaggle/temp/, but they won't be saved outside of the current session"
   ]
  },
  {
   "cell_type": "code",
   "execution_count": 2,
   "id": "2e0ad596",
   "metadata": {
    "execution": {
     "iopub.execute_input": "2025-05-29T06:28:16.123038Z",
     "iopub.status.busy": "2025-05-29T06:28:16.122548Z",
     "iopub.status.idle": "2025-05-29T06:28:16.128155Z",
     "shell.execute_reply": "2025-05-29T06:28:16.126664Z"
    },
    "papermill": {
     "duration": 0.012155,
     "end_time": "2025-05-29T06:28:16.129789",
     "exception": false,
     "start_time": "2025-05-29T06:28:16.117634",
     "status": "completed"
    },
    "tags": []
   },
   "outputs": [],
   "source": [
    "import warnings\n",
    "warnings.filterwarnings(\"ignore\", category=DeprecationWarning) "
   ]
  },
  {
   "cell_type": "markdown",
   "id": "7b5fb819",
   "metadata": {
    "papermill": {
     "duration": 0.003537,
     "end_time": "2025-05-29T06:28:16.137572",
     "exception": false,
     "start_time": "2025-05-29T06:28:16.134035",
     "status": "completed"
    },
    "tags": []
   },
   "source": [
    "# 📊 Exploratory Data Analysis: Social Media & Students\n",
    "\n",
    "## 🔍 Overview\n",
    "This analysis examines social media usage among students, exploring patterns across different aspects such as academic performance, well-being, and relationships.\n",
    "\n",
    "## 📈 Average Daily Usage\n",
    "- What’s the typical daily social media usage among students?\n",
    "- How do preferences vary across different platforms?\n",
    "\n",
    "## 🎓 Academic Impact\n",
    "- Is there a noticeable difference in daily usage hours between students who believe social media affects their academic performance and those who don’t?\n",
    "- Are there any trends in usage across different academic levels or countries?\n",
    "\n",
    "## 🛌 Well-being Analysis\n",
    "- How does average sleep duration correlate with mental health scores?\n",
    "- Are higher social media usage or addiction levels linked to lower mental health?\n",
    "\n",
    "## ❤️ Relationships & Conflict\n",
    "- Do students in relationships experience more conflicts over social media?\n",
    "- Does the “Complicated” relationship status correlate with higher addiction or conflict scores?\n",
    "\n",
    "## 🔍 Additional Insights\n",
    "- Highlighting any surprising or unexpected patterns in the dataset."
   ]
  },
  {
   "cell_type": "code",
   "execution_count": 3,
   "id": "41dbe205",
   "metadata": {
    "execution": {
     "iopub.execute_input": "2025-05-29T06:28:16.146601Z",
     "iopub.status.busy": "2025-05-29T06:28:16.146270Z",
     "iopub.status.idle": "2025-05-29T06:28:16.198238Z",
     "shell.execute_reply": "2025-05-29T06:28:16.197263Z"
    },
    "papermill": {
     "duration": 0.058664,
     "end_time": "2025-05-29T06:28:16.200031",
     "exception": false,
     "start_time": "2025-05-29T06:28:16.141367",
     "status": "completed"
    },
    "tags": []
   },
   "outputs": [
    {
     "data": {
      "text/html": [
       "<div>\n",
       "<style scoped>\n",
       "    .dataframe tbody tr th:only-of-type {\n",
       "        vertical-align: middle;\n",
       "    }\n",
       "\n",
       "    .dataframe tbody tr th {\n",
       "        vertical-align: top;\n",
       "    }\n",
       "\n",
       "    .dataframe thead th {\n",
       "        text-align: right;\n",
       "    }\n",
       "</style>\n",
       "<table border=\"1\" class=\"dataframe\">\n",
       "  <thead>\n",
       "    <tr style=\"text-align: right;\">\n",
       "      <th></th>\n",
       "      <th>Student_ID</th>\n",
       "      <th>Age</th>\n",
       "      <th>Gender</th>\n",
       "      <th>Academic_Level</th>\n",
       "      <th>Country</th>\n",
       "      <th>Avg_Daily_Usage_Hours</th>\n",
       "      <th>Most_Used_Platform</th>\n",
       "      <th>Affects_Academic_Performance</th>\n",
       "      <th>Sleep_Hours_Per_Night</th>\n",
       "      <th>Mental_Health_Score</th>\n",
       "      <th>Relationship_Status</th>\n",
       "      <th>Conflicts_Over_Social_Media</th>\n",
       "      <th>Addicted_Score</th>\n",
       "    </tr>\n",
       "  </thead>\n",
       "  <tbody>\n",
       "    <tr>\n",
       "      <th>0</th>\n",
       "      <td>1</td>\n",
       "      <td>19</td>\n",
       "      <td>Female</td>\n",
       "      <td>Undergraduate</td>\n",
       "      <td>Bangladesh</td>\n",
       "      <td>5.2</td>\n",
       "      <td>Instagram</td>\n",
       "      <td>Yes</td>\n",
       "      <td>6.5</td>\n",
       "      <td>6</td>\n",
       "      <td>In Relationship</td>\n",
       "      <td>3</td>\n",
       "      <td>8</td>\n",
       "    </tr>\n",
       "    <tr>\n",
       "      <th>1</th>\n",
       "      <td>2</td>\n",
       "      <td>22</td>\n",
       "      <td>Male</td>\n",
       "      <td>Graduate</td>\n",
       "      <td>India</td>\n",
       "      <td>2.1</td>\n",
       "      <td>Twitter</td>\n",
       "      <td>No</td>\n",
       "      <td>7.5</td>\n",
       "      <td>8</td>\n",
       "      <td>Single</td>\n",
       "      <td>0</td>\n",
       "      <td>3</td>\n",
       "    </tr>\n",
       "    <tr>\n",
       "      <th>2</th>\n",
       "      <td>3</td>\n",
       "      <td>20</td>\n",
       "      <td>Female</td>\n",
       "      <td>Undergraduate</td>\n",
       "      <td>USA</td>\n",
       "      <td>6.0</td>\n",
       "      <td>TikTok</td>\n",
       "      <td>Yes</td>\n",
       "      <td>5.0</td>\n",
       "      <td>5</td>\n",
       "      <td>Complicated</td>\n",
       "      <td>4</td>\n",
       "      <td>9</td>\n",
       "    </tr>\n",
       "    <tr>\n",
       "      <th>3</th>\n",
       "      <td>4</td>\n",
       "      <td>18</td>\n",
       "      <td>Male</td>\n",
       "      <td>High School</td>\n",
       "      <td>UK</td>\n",
       "      <td>3.0</td>\n",
       "      <td>YouTube</td>\n",
       "      <td>No</td>\n",
       "      <td>7.0</td>\n",
       "      <td>7</td>\n",
       "      <td>Single</td>\n",
       "      <td>1</td>\n",
       "      <td>4</td>\n",
       "    </tr>\n",
       "    <tr>\n",
       "      <th>4</th>\n",
       "      <td>5</td>\n",
       "      <td>21</td>\n",
       "      <td>Male</td>\n",
       "      <td>Graduate</td>\n",
       "      <td>Canada</td>\n",
       "      <td>4.5</td>\n",
       "      <td>Facebook</td>\n",
       "      <td>Yes</td>\n",
       "      <td>6.0</td>\n",
       "      <td>6</td>\n",
       "      <td>In Relationship</td>\n",
       "      <td>2</td>\n",
       "      <td>7</td>\n",
       "    </tr>\n",
       "  </tbody>\n",
       "</table>\n",
       "</div>"
      ],
      "text/plain": [
       "   Student_ID  Age  Gender Academic_Level     Country  Avg_Daily_Usage_Hours  \\\n",
       "0           1   19  Female  Undergraduate  Bangladesh                    5.2   \n",
       "1           2   22    Male       Graduate       India                    2.1   \n",
       "2           3   20  Female  Undergraduate         USA                    6.0   \n",
       "3           4   18    Male    High School          UK                    3.0   \n",
       "4           5   21    Male       Graduate      Canada                    4.5   \n",
       "\n",
       "  Most_Used_Platform Affects_Academic_Performance  Sleep_Hours_Per_Night  \\\n",
       "0          Instagram                          Yes                    6.5   \n",
       "1            Twitter                           No                    7.5   \n",
       "2             TikTok                          Yes                    5.0   \n",
       "3            YouTube                           No                    7.0   \n",
       "4           Facebook                          Yes                    6.0   \n",
       "\n",
       "   Mental_Health_Score Relationship_Status  Conflicts_Over_Social_Media  \\\n",
       "0                    6     In Relationship                            3   \n",
       "1                    8              Single                            0   \n",
       "2                    5         Complicated                            4   \n",
       "3                    7              Single                            1   \n",
       "4                    6     In Relationship                            2   \n",
       "\n",
       "   Addicted_Score  \n",
       "0               8  \n",
       "1               3  \n",
       "2               9  \n",
       "3               4  \n",
       "4               7  "
      ]
     },
     "execution_count": 3,
     "metadata": {},
     "output_type": "execute_result"
    }
   ],
   "source": [
    "df=pd.read_csv(\"/kaggle/input/social-media-addiction-vs-relationships/Students Social Media Addiction.csv\")\n",
    "df.head()"
   ]
  },
  {
   "cell_type": "code",
   "execution_count": 4,
   "id": "497ba3b5",
   "metadata": {
    "execution": {
     "iopub.execute_input": "2025-05-29T06:28:16.209874Z",
     "iopub.status.busy": "2025-05-29T06:28:16.209530Z",
     "iopub.status.idle": "2025-05-29T06:28:16.236763Z",
     "shell.execute_reply": "2025-05-29T06:28:16.235435Z"
    },
    "papermill": {
     "duration": 0.034223,
     "end_time": "2025-05-29T06:28:16.238691",
     "exception": false,
     "start_time": "2025-05-29T06:28:16.204468",
     "status": "completed"
    },
    "tags": []
   },
   "outputs": [
    {
     "name": "stdout",
     "output_type": "stream",
     "text": [
      "<class 'pandas.core.frame.DataFrame'>\n",
      "RangeIndex: 705 entries, 0 to 704\n",
      "Data columns (total 13 columns):\n",
      " #   Column                        Non-Null Count  Dtype  \n",
      "---  ------                        --------------  -----  \n",
      " 0   Student_ID                    705 non-null    int64  \n",
      " 1   Age                           705 non-null    int64  \n",
      " 2   Gender                        705 non-null    object \n",
      " 3   Academic_Level                705 non-null    object \n",
      " 4   Country                       705 non-null    object \n",
      " 5   Avg_Daily_Usage_Hours         705 non-null    float64\n",
      " 6   Most_Used_Platform            705 non-null    object \n",
      " 7   Affects_Academic_Performance  705 non-null    object \n",
      " 8   Sleep_Hours_Per_Night         705 non-null    float64\n",
      " 9   Mental_Health_Score           705 non-null    int64  \n",
      " 10  Relationship_Status           705 non-null    object \n",
      " 11  Conflicts_Over_Social_Media   705 non-null    int64  \n",
      " 12  Addicted_Score                705 non-null    int64  \n",
      "dtypes: float64(2), int64(5), object(6)\n",
      "memory usage: 71.7+ KB\n"
     ]
    }
   ],
   "source": [
    "df.info()"
   ]
  },
  {
   "cell_type": "markdown",
   "id": "396e6fd1",
   "metadata": {
    "papermill": {
     "duration": 0.003936,
     "end_time": "2025-05-29T06:28:16.246976",
     "exception": false,
     "start_time": "2025-05-29T06:28:16.243040",
     "status": "completed"
    },
    "tags": []
   },
   "source": [
    "## **The average daily usage of social media among students**"
   ]
  },
  {
   "cell_type": "code",
   "execution_count": 5,
   "id": "172fec3b",
   "metadata": {
    "execution": {
     "iopub.execute_input": "2025-05-29T06:28:16.256380Z",
     "iopub.status.busy": "2025-05-29T06:28:16.256024Z",
     "iopub.status.idle": "2025-05-29T06:28:16.267116Z",
     "shell.execute_reply": "2025-05-29T06:28:16.266106Z"
    },
    "papermill": {
     "duration": 0.01806,
     "end_time": "2025-05-29T06:28:16.269054",
     "exception": false,
     "start_time": "2025-05-29T06:28:16.250994",
     "status": "completed"
    },
    "tags": []
   },
   "outputs": [
    {
     "data": {
      "text/plain": [
       "Academic_Level\n",
       "Graduate         4.776923\n",
       "High School      5.544444\n",
       "Undergraduate    5.001416\n",
       "Name: Avg_Daily_Usage_Hours, dtype: float64"
      ]
     },
     "execution_count": 5,
     "metadata": {},
     "output_type": "execute_result"
    }
   ],
   "source": [
    "avg_use=df.groupby(\"Academic_Level\")[\"Avg_Daily_Usage_Hours\"].mean()\n",
    "avg_use"
   ]
  },
  {
   "cell_type": "markdown",
   "id": "186ba9b5",
   "metadata": {
    "papermill": {
     "duration": 0.004422,
     "end_time": "2025-05-29T06:28:16.278710",
     "exception": false,
     "start_time": "2025-05-29T06:28:16.274288",
     "status": "completed"
    },
    "tags": []
   },
   "source": [
    "## **Distribution of platform preference**"
   ]
  },
  {
   "cell_type": "code",
   "execution_count": 6,
   "id": "6e110fa5",
   "metadata": {
    "execution": {
     "iopub.execute_input": "2025-05-29T06:28:16.290026Z",
     "iopub.status.busy": "2025-05-29T06:28:16.289682Z",
     "iopub.status.idle": "2025-05-29T06:28:16.626263Z",
     "shell.execute_reply": "2025-05-29T06:28:16.625191Z"
    },
    "papermill": {
     "duration": 0.344218,
     "end_time": "2025-05-29T06:28:16.627990",
     "exception": false,
     "start_time": "2025-05-29T06:28:16.283772",
     "status": "completed"
    },
    "tags": []
   },
   "outputs": [
    {
     "data": {
      "image/png": "[encoded data removed]",
      "text/plain": [
       "<Figure size 640x480 with 1 Axes>"
      ]
     },
     "metadata": {},
     "output_type": "display_data"
    }
   ],
   "source": [
    "platform_counts = df[\"Most_Used_Platform\"].value_counts()\n",
    "\n",
    "# Create a bar plot with sorted categories\n",
    "sns.barplot(x=platform_counts.index, y=platform_counts.values)\n",
    "\n",
    "# Rotate x-axis labels for better readability\n",
    "plt.xticks(rotation=90)\n",
    "plt.xlabel(\"Platform\")\n",
    "plt.ylabel(\"Frequency\")\n",
    "plt.title(\"Most Used Platforms\")\n",
    "plt.show()"
   ]
  },
  {
   "cell_type": "markdown",
   "id": "5ba2df7b",
   "metadata": {
    "papermill": {
     "duration": 0.004591,
     "end_time": "2025-05-29T06:28:16.638193",
     "exception": false,
     "start_time": "2025-05-29T06:28:16.633602",
     "status": "completed"
    },
    "tags": []
   },
   "source": [
    "## **Academic Impact Analysis**"
   ]
  },
  {
   "cell_type": "code",
   "execution_count": 7,
   "id": "58391367",
   "metadata": {
    "execution": {
     "iopub.execute_input": "2025-05-29T06:28:16.648882Z",
     "iopub.status.busy": "2025-05-29T06:28:16.648548Z",
     "iopub.status.idle": "2025-05-29T06:28:16.835789Z",
     "shell.execute_reply": "2025-05-29T06:28:16.834908Z"
    },
    "papermill": {
     "duration": 0.194622,
     "end_time": "2025-05-29T06:28:16.837608",
     "exception": false,
     "start_time": "2025-05-29T06:28:16.642986",
     "status": "completed"
    },
    "tags": []
   },
   "outputs": [
    {
     "name": "stderr",
     "output_type": "stream",
     "text": [
      "/usr/local/lib/python3.11/dist-packages/seaborn/categorical.py:1794: FutureWarning: use_inf_as_na option is deprecated and will be removed in a future version. Convert inf values to NaN before operating instead.\n",
      "  with pd.option_context('mode.use_inf_as_na', True):\n",
      "/usr/local/lib/python3.11/dist-packages/seaborn/categorical.py:1794: FutureWarning: use_inf_as_na option is deprecated and will be removed in a future version. Convert inf values to NaN before operating instead.\n",
      "  with pd.option_context('mode.use_inf_as_na', True):\n"
     ]
    },
    {
     "data": {
      "image/png": "[encoded data removed]",
      "text/plain": [
       "<Figure size 800x600 with 1 Axes>"
      ]
     },
     "metadata": {},
     "output_type": "display_data"
    }
   ],
   "source": [
    "import numpy as np\n",
    "df.replace([np.inf, -np.inf], np.nan, inplace=True)\n",
    "df.dropna(inplace=True)\n",
    "plt.figure(figsize=(8, 6))\n",
    "sns.boxenplot(data=df, x=\"Affects_Academic_Performance\", y=\"Avg_Daily_Usage_Hours\")\n",
    "plt.title(\"Effect of Daily Usage on Academic Performance\")\n",
    "plt.show()"
   ]
  },
  {
   "cell_type": "markdown",
   "id": "42f71dcf",
   "metadata": {
    "papermill": {
     "duration": 0.005861,
     "end_time": "2025-05-29T06:28:16.850053",
     "exception": false,
     "start_time": "2025-05-29T06:28:16.844192",
     "status": "completed"
    },
    "tags": []
   },
   "source": [
    "## **Highest recorded average daily usage hours**"
   ]
  },
  {
   "cell_type": "code",
   "execution_count": 8,
   "id": "e14af083",
   "metadata": {
    "execution": {
     "iopub.execute_input": "2025-05-29T06:28:16.862372Z",
     "iopub.status.busy": "2025-05-29T06:28:16.862051Z",
     "iopub.status.idle": "2025-05-29T06:28:16.875978Z",
     "shell.execute_reply": "2025-05-29T06:28:16.874983Z"
    },
    "papermill": {
     "duration": 0.021893,
     "end_time": "2025-05-29T06:28:16.877614",
     "exception": false,
     "start_time": "2025-05-29T06:28:16.855721",
     "status": "completed"
    },
    "tags": []
   },
   "outputs": [
    {
     "data": {
      "text/plain": [
       "Academic_Level  Country  \n",
       "Undergraduate   USA          8.5\n",
       "Graduate        India        7.5\n",
       "Undergraduate   India        7.4\n",
       "Graduate        Mexico       7.3\n",
       "Undergraduate   Australia    7.2\n",
       "Name: Avg_Daily_Usage_Hours, dtype: float64"
      ]
     },
     "execution_count": 8,
     "metadata": {},
     "output_type": "execute_result"
    }
   ],
   "source": [
    "avg = df.groupby([\"Academic_Level\", \"Country\"])[\"Avg_Daily_Usage_Hours\"].max().sort_values(ascending=False)\n",
    "avg.head()"
   ]
  },
  {
   "cell_type": "markdown",
   "id": "dbd2c8e6",
   "metadata": {
    "papermill": {
     "duration": 0.005807,
     "end_time": "2025-05-29T06:28:16.889310",
     "exception": false,
     "start_time": "2025-05-29T06:28:16.883503",
     "status": "completed"
    },
    "tags": []
   },
   "source": [
    "## **Correlation Analysis**"
   ]
  },
  {
   "cell_type": "code",
   "execution_count": 9,
   "id": "5ecd831a",
   "metadata": {
    "execution": {
     "iopub.execute_input": "2025-05-29T06:28:16.903230Z",
     "iopub.status.busy": "2025-05-29T06:28:16.902923Z",
     "iopub.status.idle": "2025-05-29T06:28:16.920422Z",
     "shell.execute_reply": "2025-05-29T06:28:16.918997Z"
    },
    "papermill": {
     "duration": 0.026463,
     "end_time": "2025-05-29T06:28:16.922246",
     "exception": false,
     "start_time": "2025-05-29T06:28:16.895783",
     "status": "completed"
    },
    "tags": []
   },
   "outputs": [
    {
     "data": {
      "text/html": [
       "<div>\n",
       "<style scoped>\n",
       "    .dataframe tbody tr th:only-of-type {\n",
       "        vertical-align: middle;\n",
       "    }\n",
       "\n",
       "    .dataframe tbody tr th {\n",
       "        vertical-align: top;\n",
       "    }\n",
       "\n",
       "    .dataframe thead th {\n",
       "        text-align: right;\n",
       "    }\n",
       "</style>\n",
       "<table border=\"1\" class=\"dataframe\">\n",
       "  <thead>\n",
       "    <tr style=\"text-align: right;\">\n",
       "      <th></th>\n",
       "      <th>Avg_Daily_Usage_Hours</th>\n",
       "      <th>Sleep_Hours_Per_Night</th>\n",
       "      <th>Mental_Health_Score</th>\n",
       "      <th>Conflicts_Over_Social_Media</th>\n",
       "      <th>Addicted_Score</th>\n",
       "    </tr>\n",
       "  </thead>\n",
       "  <tbody>\n",
       "    <tr>\n",
       "      <th>Avg_Daily_Usage_Hours</th>\n",
       "      <td>1.000000</td>\n",
       "      <td>-0.790582</td>\n",
       "      <td>-0.801058</td>\n",
       "      <td>0.804582</td>\n",
       "      <td>0.832000</td>\n",
       "    </tr>\n",
       "    <tr>\n",
       "      <th>Sleep_Hours_Per_Night</th>\n",
       "      <td>-0.790582</td>\n",
       "      <td>1.000000</td>\n",
       "      <td>0.707439</td>\n",
       "      <td>-0.677266</td>\n",
       "      <td>-0.764858</td>\n",
       "    </tr>\n",
       "    <tr>\n",
       "      <th>Mental_Health_Score</th>\n",
       "      <td>-0.801058</td>\n",
       "      <td>0.707439</td>\n",
       "      <td>1.000000</td>\n",
       "      <td>-0.893572</td>\n",
       "      <td>-0.945051</td>\n",
       "    </tr>\n",
       "    <tr>\n",
       "      <th>Conflicts_Over_Social_Media</th>\n",
       "      <td>0.804582</td>\n",
       "      <td>-0.677266</td>\n",
       "      <td>-0.893572</td>\n",
       "      <td>1.000000</td>\n",
       "      <td>0.933586</td>\n",
       "    </tr>\n",
       "    <tr>\n",
       "      <th>Addicted_Score</th>\n",
       "      <td>0.832000</td>\n",
       "      <td>-0.764858</td>\n",
       "      <td>-0.945051</td>\n",
       "      <td>0.933586</td>\n",
       "      <td>1.000000</td>\n",
       "    </tr>\n",
       "  </tbody>\n",
       "</table>\n",
       "</div>"
      ],
      "text/plain": [
       "                             Avg_Daily_Usage_Hours  Sleep_Hours_Per_Night  \\\n",
       "Avg_Daily_Usage_Hours                     1.000000              -0.790582   \n",
       "Sleep_Hours_Per_Night                    -0.790582               1.000000   \n",
       "Mental_Health_Score                      -0.801058               0.707439   \n",
       "Conflicts_Over_Social_Media               0.804582              -0.677266   \n",
       "Addicted_Score                            0.832000              -0.764858   \n",
       "\n",
       "                             Mental_Health_Score  Conflicts_Over_Social_Media  \\\n",
       "Avg_Daily_Usage_Hours                  -0.801058                     0.804582   \n",
       "Sleep_Hours_Per_Night                   0.707439                    -0.677266   \n",
       "Mental_Health_Score                     1.000000                    -0.893572   \n",
       "Conflicts_Over_Social_Media            -0.893572                     1.000000   \n",
       "Addicted_Score                         -0.945051                     0.933586   \n",
       "\n",
       "                             Addicted_Score  \n",
       "Avg_Daily_Usage_Hours              0.832000  \n",
       "Sleep_Hours_Per_Night             -0.764858  \n",
       "Mental_Health_Score               -0.945051  \n",
       "Conflicts_Over_Social_Media        0.933586  \n",
       "Addicted_Score                     1.000000  "
      ]
     },
     "execution_count": 9,
     "metadata": {},
     "output_type": "execute_result"
    }
   ],
   "source": [
    "corr=df[[\"Avg_Daily_Usage_Hours\",\t\"Sleep_Hours_Per_Night\",\t\"Mental_Health_Score\",\t\"Conflicts_Over_Social_Media\",\t\"Addicted_Score\"]].corr()\n",
    "corr"
   ]
  },
  {
   "cell_type": "code",
   "execution_count": 10,
   "id": "1b1c17e0",
   "metadata": {
    "execution": {
     "iopub.execute_input": "2025-05-29T06:28:16.936220Z",
     "iopub.status.busy": "2025-05-29T06:28:16.935896Z",
     "iopub.status.idle": "2025-05-29T06:28:17.314046Z",
     "shell.execute_reply": "2025-05-29T06:28:17.313044Z"
    },
    "papermill": {
     "duration": 0.387793,
     "end_time": "2025-05-29T06:28:17.315936",
     "exception": false,
     "start_time": "2025-05-29T06:28:16.928143",
     "status": "completed"
    },
    "tags": []
   },
   "outputs": [
    {
     "data": {
      "text/plain": [
       "<Axes: >"
      ]
     },
     "execution_count": 10,
     "metadata": {},
     "output_type": "execute_result"
    },
    {
     "data": {
      "image/png": "[encoded data removed]",
      "text/plain": [
       "<Figure size 640x480 with 2 Axes>"
      ]
     },
     "metadata": {},
     "output_type": "display_data"
    }
   ],
   "source": [
    "sns.heatmap(corr, annot=True, cmap=\"RdYlGn\", linewidths=0.5)"
   ]
  },
  {
   "cell_type": "markdown",
   "id": "229553c0",
   "metadata": {
    "papermill": {
     "duration": 0.007354,
     "end_time": "2025-05-29T06:28:17.331394",
     "exception": false,
     "start_time": "2025-05-29T06:28:17.324040",
     "status": "completed"
    },
    "tags": []
   },
   "source": [
    "## **Relationships & Conflict Analysis**"
   ]
  },
  {
   "cell_type": "code",
   "execution_count": 11,
   "id": "b3f68ccc",
   "metadata": {
    "execution": {
     "iopub.execute_input": "2025-05-29T06:28:17.348261Z",
     "iopub.status.busy": "2025-05-29T06:28:17.347781Z",
     "iopub.status.idle": "2025-05-29T06:28:17.357876Z",
     "shell.execute_reply": "2025-05-29T06:28:17.356963Z"
    },
    "papermill": {
     "duration": 0.020866,
     "end_time": "2025-05-29T06:28:17.360007",
     "exception": false,
     "start_time": "2025-05-29T06:28:17.339141",
     "status": "completed"
    },
    "tags": []
   },
   "outputs": [
    {
     "data": {
      "text/plain": [
       "Relationship_Status\n",
       "Complicated        3.031250\n",
       "In Relationship    2.761246\n",
       "Single             2.901042\n",
       "Name: Conflicts_Over_Social_Media, dtype: float64"
      ]
     },
     "execution_count": 11,
     "metadata": {},
     "output_type": "execute_result"
    }
   ],
   "source": [
    "con=df.groupby(\"Relationship_Status\") [\"Conflicts_Over_Social_Media\"].mean()\n",
    "con"
   ]
  },
  {
   "cell_type": "code",
   "execution_count": 12,
   "id": "0dbd874d",
   "metadata": {
    "execution": {
     "iopub.execute_input": "2025-05-29T06:28:17.376741Z",
     "iopub.status.busy": "2025-05-29T06:28:17.376427Z",
     "iopub.status.idle": "2025-05-29T06:28:17.386971Z",
     "shell.execute_reply": "2025-05-29T06:28:17.385549Z"
    },
    "papermill": {
     "duration": 0.020956,
     "end_time": "2025-05-29T06:28:17.388943",
     "exception": false,
     "start_time": "2025-05-29T06:28:17.367987",
     "status": "completed"
    },
    "tags": []
   },
   "outputs": [
    {
     "data": {
      "text/plain": [
       "Relationship_Status\n",
       "Complicated        7.031250\n",
       "In Relationship    6.342561\n",
       "Single             6.458333\n",
       "Name: Addicted_Score, dtype: float64"
      ]
     },
     "execution_count": 12,
     "metadata": {},
     "output_type": "execute_result"
    }
   ],
   "source": [
    "cos=df.groupby(\"Relationship_Status\") [\"Addicted_Score\"].mean()\n",
    "cos"
   ]
  },
  {
   "cell_type": "markdown",
   "id": "36f25a71",
   "metadata": {
    "papermill": {
     "duration": 0.007935,
     "end_time": "2025-05-29T06:28:17.405568",
     "exception": false,
     "start_time": "2025-05-29T06:28:17.397633",
     "status": "completed"
    },
    "tags": []
   },
   "source": [
    "## **Age demographics of social media users**"
   ]
  },
  {
   "cell_type": "code",
   "execution_count": 13,
   "id": "8eed0cd2",
   "metadata": {
    "execution": {
     "iopub.execute_input": "2025-05-29T06:28:17.423734Z",
     "iopub.status.busy": "2025-05-29T06:28:17.423427Z",
     "iopub.status.idle": "2025-05-29T06:28:17.630874Z",
     "shell.execute_reply": "2025-05-29T06:28:17.629895Z"
    },
    "papermill": {
     "duration": 0.218238,
     "end_time": "2025-05-29T06:28:17.632661",
     "exception": false,
     "start_time": "2025-05-29T06:28:17.414423",
     "status": "completed"
    },
    "tags": []
   },
   "outputs": [
    {
     "data": {
      "image/png": "[encoded data removed]",
      "text/plain": [
       "<Figure size 640x480 with 1 Axes>"
      ]
     },
     "metadata": {},
     "output_type": "display_data"
    }
   ],
   "source": [
    "sns.boxplot(data=df, x=\"Age\", y=\"Avg_Daily_Usage_Hours\")\n",
    "plt.show()"
   ]
  }
 ],
 "metadata": {
  "kaggle": {
   "accelerator": "none",
   "dataSources": [
    {
     "datasetId": 7381156,
     "sourceId": 11760664,
     "sourceType": "datasetVersion"
    }
   ],
   "dockerImageVersionId": 31040,
   "isGpuEnabled": false,
   "isInternetEnabled": true,
   "language": "python",
   "sourceType": "notebook"
  },
  "kernelspec": {
   "display_name": "Python 3",
   "language": "python",
   "name": "python3"
  },
  "language_info": {
   "codemirror_mode": {
    "name": "ipython",
    "version": 3
   },
   "file_extension": ".py",
   "mimetype": "text/x-python",
   "name": "python",
   "nbconvert_exporter": "python",
   "pygments_lexer": "ipython3",
   "version": "3.11.11"
  },
  "papermill": {
   "default_parameters": {},
   "duration": 11.773093,
   "end_time": "2025-05-29T06:28:18.362364",
   "environment_variables": {},
   "exception": null,
   "input_path": "__notebook__.ipynb",
   "output_path": "__notebook__.ipynb",
   "parameters": {},
   "start_time": "2025-05-29T06:28:06.589271",
   "version": "2.6.0"
  }
 },
 "nbformat": 4,
 "nbformat_minor": 5
}
