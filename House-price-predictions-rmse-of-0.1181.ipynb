{
 "cells": [
  {
   "cell_type": "code",
   "execution_count": 1,
   "id": "ed42e281",
   "metadata": {
    "_cell_guid": "b1076dfc-b9ad-4769-8c92-a6c4dae69d19",
    "_uuid": "8f2839f25d086af736a60e9eeb907d3b93b6e0e5",
    "execution": {
     "iopub.execute_input": "2025-06-15T11:53:24.983743Z",
     "iopub.status.busy": "2025-06-15T11:53:24.982956Z",
     "iopub.status.idle": "2025-06-15T11:53:26.970286Z",
     "shell.execute_reply": "2025-06-15T11:53:26.969212Z"
    },
    "papermill": {
     "duration": 1.996668,
     "end_time": "2025-06-15T11:53:26.972130",
     "exception": false,
     "start_time": "2025-06-15T11:53:24.975462",
     "status": "completed"
    },
    "tags": []
   },
   "outputs": [
    {
     "name": "stdout",
     "output_type": "stream",
     "text": [
      "/kaggle/input/house-prices-advanced-regression-techniques/sample_submission.csv\n",
      "/kaggle/input/house-prices-advanced-regression-techniques/data_description.txt\n",
      "/kaggle/input/house-prices-advanced-regression-techniques/train.csv\n",
      "/kaggle/input/house-prices-advanced-regression-techniques/test.csv\n"
     ]
    }
   ],
   "source": [
    "# This Python 3 environment comes with many helpful analytics libraries installed\n",
    "# It is defined by the kaggle/python Docker image: https://github.com/kaggle/docker-python\n",
    "# For example, here's several helpful packages to load\n",
    "\n",
    "import numpy as np # linear algebra\n",
    "import pandas as pd # data processing, CSV file I/O (e.g. pd.read_csv)\n",
    "\n",
    "# Input data files are available in the read-only \"../input/\" directory\n",
    "# For example, running this (by clicking run or pressing Shift+Enter) will list all files under the input directory\n",
    "\n",
    "import os\n",
    "for dirname, _, filenames in os.walk('/kaggle/input'):\n",
    "    for filename in filenames:\n",
    "        print(os.path.join(dirname, filename))\n",
    "\n",
    "# You can write up to 20GB to the current directory (/kaggle/working/) that gets preserved as output when you create a version using \"Save & Run All\" \n",
    "# You can also write temporary files to /kaggle/temp/, but they won't be saved outside of the current session"
   ]
  },
  {
   "cell_type": "markdown",
   "id": "c0b81285",
   "metadata": {
    "papermill": {
     "duration": 0.0048,
     "end_time": "2025-06-15T11:53:26.982579",
     "exception": false,
     "start_time": "2025-06-15T11:53:26.977779",
     "status": "completed"
    },
    "tags": []
   },
   "source": [
    "## Load the Dataset"
   ]
  },
  {
   "cell_type": "markdown",
   "id": "7b919feb",
   "metadata": {
    "papermill": {
     "duration": 0.004719,
     "end_time": "2025-06-15T11:53:26.992362",
     "exception": false,
     "start_time": "2025-06-15T11:53:26.987643",
     "status": "completed"
    },
    "tags": []
   },
   "source": [
    "### Load Training Data"
   ]
  },
  {
   "cell_type": "code",
   "execution_count": 2,
   "id": "3c1b30d5",
   "metadata": {
    "execution": {
     "iopub.execute_input": "2025-06-15T11:53:27.003760Z",
     "iopub.status.busy": "2025-06-15T11:53:27.003310Z",
     "iopub.status.idle": "2025-06-15T11:53:27.083416Z",
     "shell.execute_reply": "2025-06-15T11:53:27.082592Z"
    },
    "papermill": {
     "duration": 0.087575,
     "end_time": "2025-06-15T11:53:27.084914",
     "exception": false,
     "start_time": "2025-06-15T11:53:26.997339",
     "status": "completed"
    },
    "tags": []
   },
   "outputs": [
    {
     "data": {
      "text/html": [
       "<div>\n",
       "<style scoped>\n",
       "    .dataframe tbody tr th:only-of-type {\n",
       "        vertical-align: middle;\n",
       "    }\n",
       "\n",
       "    .dataframe tbody tr th {\n",
       "        vertical-align: top;\n",
       "    }\n",
       "\n",
       "    .dataframe thead th {\n",
       "        text-align: right;\n",
       "    }\n",
       "</style>\n",
       "<table border=\"1\" class=\"dataframe\">\n",
       "  <thead>\n",
       "    <tr style=\"text-align: right;\">\n",
       "      <th></th>\n",
       "      <th>Id</th>\n",
       "      <th>MSSubClass</th>\n",
       "      <th>MSZoning</th>\n",
       "      <th>LotFrontage</th>\n",
       "      <th>LotArea</th>\n",
       "      <th>Street</th>\n",
       "      <th>Alley</th>\n",
       "      <th>LotShape</th>\n",
       "      <th>LandContour</th>\n",
       "      <th>Utilities</th>\n",
       "      <th>...</th>\n",
       "      <th>PoolArea</th>\n",
       "      <th>PoolQC</th>\n",
       "      <th>Fence</th>\n",
       "      <th>MiscFeature</th>\n",
       "      <th>MiscVal</th>\n",
       "      <th>MoSold</th>\n",
       "      <th>YrSold</th>\n",
       "      <th>SaleType</th>\n",
       "      <th>SaleCondition</th>\n",
       "      <th>SalePrice</th>\n",
       "    </tr>\n",
       "  </thead>\n",
       "  <tbody>\n",
       "    <tr>\n",
       "      <th>0</th>\n",
       "      <td>1</td>\n",
       "      <td>60</td>\n",
       "      <td>RL</td>\n",
       "      <td>65.0</td>\n",
       "      <td>8450</td>\n",
       "      <td>Pave</td>\n",
       "      <td>NaN</td>\n",
       "      <td>Reg</td>\n",
       "      <td>Lvl</td>\n",
       "      <td>AllPub</td>\n",
       "      <td>...</td>\n",
       "      <td>0</td>\n",
       "      <td>NaN</td>\n",
       "      <td>NaN</td>\n",
       "      <td>NaN</td>\n",
       "      <td>0</td>\n",
       "      <td>2</td>\n",
       "      <td>2008</td>\n",
       "      <td>WD</td>\n",
       "      <td>Normal</td>\n",
       "      <td>208500</td>\n",
       "    </tr>\n",
       "    <tr>\n",
       "      <th>1</th>\n",
       "      <td>2</td>\n",
       "      <td>20</td>\n",
       "      <td>RL</td>\n",
       "      <td>80.0</td>\n",
       "      <td>9600</td>\n",
       "      <td>Pave</td>\n",
       "      <td>NaN</td>\n",
       "      <td>Reg</td>\n",
       "      <td>Lvl</td>\n",
       "      <td>AllPub</td>\n",
       "      <td>...</td>\n",
       "      <td>0</td>\n",
       "      <td>NaN</td>\n",
       "      <td>NaN</td>\n",
       "      <td>NaN</td>\n",
       "      <td>0</td>\n",
       "      <td>5</td>\n",
       "      <td>2007</td>\n",
       "      <td>WD</td>\n",
       "      <td>Normal</td>\n",
       "      <td>181500</td>\n",
       "    </tr>\n",
       "    <tr>\n",
       "      <th>2</th>\n",
       "      <td>3</td>\n",
       "      <td>60</td>\n",
       "      <td>RL</td>\n",
       "      <td>68.0</td>\n",
       "      <td>11250</td>\n",
       "      <td>Pave</td>\n",
       "      <td>NaN</td>\n",
       "      <td>IR1</td>\n",
       "      <td>Lvl</td>\n",
       "      <td>AllPub</td>\n",
       "      <td>...</td>\n",
       "      <td>0</td>\n",
       "      <td>NaN</td>\n",
       "      <td>NaN</td>\n",
       "      <td>NaN</td>\n",
       "      <td>0</td>\n",
       "      <td>9</td>\n",
       "      <td>2008</td>\n",
       "      <td>WD</td>\n",
       "      <td>Normal</td>\n",
       "      <td>223500</td>\n",
       "    </tr>\n",
       "    <tr>\n",
       "      <th>3</th>\n",
       "      <td>4</td>\n",
       "      <td>70</td>\n",
       "      <td>RL</td>\n",
       "      <td>60.0</td>\n",
       "      <td>9550</td>\n",
       "      <td>Pave</td>\n",
       "      <td>NaN</td>\n",
       "      <td>IR1</td>\n",
       "      <td>Lvl</td>\n",
       "      <td>AllPub</td>\n",
       "      <td>...</td>\n",
       "      <td>0</td>\n",
       "      <td>NaN</td>\n",
       "      <td>NaN</td>\n",
       "      <td>NaN</td>\n",
       "      <td>0</td>\n",
       "      <td>2</td>\n",
       "      <td>2006</td>\n",
       "      <td>WD</td>\n",
       "      <td>Abnorml</td>\n",
       "      <td>140000</td>\n",
       "    </tr>\n",
       "    <tr>\n",
       "      <th>4</th>\n",
       "      <td>5</td>\n",
       "      <td>60</td>\n",
       "      <td>RL</td>\n",
       "      <td>84.0</td>\n",
       "      <td>14260</td>\n",
       "      <td>Pave</td>\n",
       "      <td>NaN</td>\n",
       "      <td>IR1</td>\n",
       "      <td>Lvl</td>\n",
       "      <td>AllPub</td>\n",
       "      <td>...</td>\n",
       "      <td>0</td>\n",
       "      <td>NaN</td>\n",
       "      <td>NaN</td>\n",
       "      <td>NaN</td>\n",
       "      <td>0</td>\n",
       "      <td>12</td>\n",
       "      <td>2008</td>\n",
       "      <td>WD</td>\n",
       "      <td>Normal</td>\n",
       "      <td>250000</td>\n",
       "    </tr>\n",
       "  </tbody>\n",
       "</table>\n",
       "<p>5 rows × 81 columns</p>\n",
       "</div>"
      ],
      "text/plain": [
       "   Id  MSSubClass MSZoning  LotFrontage  LotArea Street Alley LotShape  \\\n",
       "0   1          60       RL         65.0     8450   Pave   NaN      Reg   \n",
       "1   2          20       RL         80.0     9600   Pave   NaN      Reg   \n",
       "2   3          60       RL         68.0    11250   Pave   NaN      IR1   \n",
       "3   4          70       RL         60.0     9550   Pave   NaN      IR1   \n",
       "4   5          60       RL         84.0    14260   Pave   NaN      IR1   \n",
       "\n",
       "  LandContour Utilities  ... PoolArea PoolQC Fence MiscFeature MiscVal MoSold  \\\n",
       "0         Lvl    AllPub  ...        0    NaN   NaN         NaN       0      2   \n",
       "1         Lvl    AllPub  ...        0    NaN   NaN         NaN       0      5   \n",
       "2         Lvl    AllPub  ...        0    NaN   NaN         NaN       0      9   \n",
       "3         Lvl    AllPub  ...        0    NaN   NaN         NaN       0      2   \n",
       "4         Lvl    AllPub  ...        0    NaN   NaN         NaN       0     12   \n",
       "\n",
       "  YrSold  SaleType  SaleCondition  SalePrice  \n",
       "0   2008        WD         Normal     208500  \n",
       "1   2007        WD         Normal     181500  \n",
       "2   2008        WD         Normal     223500  \n",
       "3   2006        WD        Abnorml     140000  \n",
       "4   2008        WD         Normal     250000  \n",
       "\n",
       "[5 rows x 81 columns]"
      ]
     },
     "execution_count": 2,
     "metadata": {},
     "output_type": "execute_result"
    }
   ],
   "source": [
    "dftn=pd.read_csv('/kaggle/input/house-prices-advanced-regression-techniques/train.csv')\n",
    "dftn.head()"
   ]
  },
  {
   "cell_type": "markdown",
   "id": "61b6736f",
   "metadata": {
    "papermill": {
     "duration": 0.005075,
     "end_time": "2025-06-15T11:53:27.095765",
     "exception": false,
     "start_time": "2025-06-15T11:53:27.090690",
     "status": "completed"
    },
    "tags": []
   },
   "source": [
    "### Load Testing Data"
   ]
  },
  {
   "cell_type": "code",
   "execution_count": 3,
   "id": "a43c916d",
   "metadata": {
    "execution": {
     "iopub.execute_input": "2025-06-15T11:53:27.108239Z",
     "iopub.status.busy": "2025-06-15T11:53:27.107418Z",
     "iopub.status.idle": "2025-06-15T11:53:27.149997Z",
     "shell.execute_reply": "2025-06-15T11:53:27.149099Z"
    },
    "papermill": {
     "duration": 0.050382,
     "end_time": "2025-06-15T11:53:27.151505",
     "exception": false,
     "start_time": "2025-06-15T11:53:27.101123",
     "status": "completed"
    },
    "tags": []
   },
   "outputs": [
    {
     "data": {
      "text/html": [
       "<div>\n",
       "<style scoped>\n",
       "    .dataframe tbody tr th:only-of-type {\n",
       "        vertical-align: middle;\n",
       "    }\n",
       "\n",
       "    .dataframe tbody tr th {\n",
       "        vertical-align: top;\n",
       "    }\n",
       "\n",
       "    .dataframe thead th {\n",
       "        text-align: right;\n",
       "    }\n",
       "</style>\n",
       "<table border=\"1\" class=\"dataframe\">\n",
       "  <thead>\n",
       "    <tr style=\"text-align: right;\">\n",
       "      <th></th>\n",
       "      <th>Id</th>\n",
       "      <th>MSSubClass</th>\n",
       "      <th>MSZoning</th>\n",
       "      <th>LotFrontage</th>\n",
       "      <th>LotArea</th>\n",
       "      <th>Street</th>\n",
       "      <th>Alley</th>\n",
       "      <th>LotShape</th>\n",
       "      <th>LandContour</th>\n",
       "      <th>Utilities</th>\n",
       "      <th>...</th>\n",
       "      <th>ScreenPorch</th>\n",
       "      <th>PoolArea</th>\n",
       "      <th>PoolQC</th>\n",
       "      <th>Fence</th>\n",
       "      <th>MiscFeature</th>\n",
       "      <th>MiscVal</th>\n",
       "      <th>MoSold</th>\n",
       "      <th>YrSold</th>\n",
       "      <th>SaleType</th>\n",
       "      <th>SaleCondition</th>\n",
       "    </tr>\n",
       "  </thead>\n",
       "  <tbody>\n",
       "    <tr>\n",
       "      <th>0</th>\n",
       "      <td>1461</td>\n",
       "      <td>20</td>\n",
       "      <td>RH</td>\n",
       "      <td>80.0</td>\n",
       "      <td>11622</td>\n",
       "      <td>Pave</td>\n",
       "      <td>NaN</td>\n",
       "      <td>Reg</td>\n",
       "      <td>Lvl</td>\n",
       "      <td>AllPub</td>\n",
       "      <td>...</td>\n",
       "      <td>120</td>\n",
       "      <td>0</td>\n",
       "      <td>NaN</td>\n",
       "      <td>MnPrv</td>\n",
       "      <td>NaN</td>\n",
       "      <td>0</td>\n",
       "      <td>6</td>\n",
       "      <td>2010</td>\n",
       "      <td>WD</td>\n",
       "      <td>Normal</td>\n",
       "    </tr>\n",
       "    <tr>\n",
       "      <th>1</th>\n",
       "      <td>1462</td>\n",
       "      <td>20</td>\n",
       "      <td>RL</td>\n",
       "      <td>81.0</td>\n",
       "      <td>14267</td>\n",
       "      <td>Pave</td>\n",
       "      <td>NaN</td>\n",
       "      <td>IR1</td>\n",
       "      <td>Lvl</td>\n",
       "      <td>AllPub</td>\n",
       "      <td>...</td>\n",
       "      <td>0</td>\n",
       "      <td>0</td>\n",
       "      <td>NaN</td>\n",
       "      <td>NaN</td>\n",
       "      <td>Gar2</td>\n",
       "      <td>12500</td>\n",
       "      <td>6</td>\n",
       "      <td>2010</td>\n",
       "      <td>WD</td>\n",
       "      <td>Normal</td>\n",
       "    </tr>\n",
       "    <tr>\n",
       "      <th>2</th>\n",
       "      <td>1463</td>\n",
       "      <td>60</td>\n",
       "      <td>RL</td>\n",
       "      <td>74.0</td>\n",
       "      <td>13830</td>\n",
       "      <td>Pave</td>\n",
       "      <td>NaN</td>\n",
       "      <td>IR1</td>\n",
       "      <td>Lvl</td>\n",
       "      <td>AllPub</td>\n",
       "      <td>...</td>\n",
       "      <td>0</td>\n",
       "      <td>0</td>\n",
       "      <td>NaN</td>\n",
       "      <td>MnPrv</td>\n",
       "      <td>NaN</td>\n",
       "      <td>0</td>\n",
       "      <td>3</td>\n",
       "      <td>2010</td>\n",
       "      <td>WD</td>\n",
       "      <td>Normal</td>\n",
       "    </tr>\n",
       "    <tr>\n",
       "      <th>3</th>\n",
       "      <td>1464</td>\n",
       "      <td>60</td>\n",
       "      <td>RL</td>\n",
       "      <td>78.0</td>\n",
       "      <td>9978</td>\n",
       "      <td>Pave</td>\n",
       "      <td>NaN</td>\n",
       "      <td>IR1</td>\n",
       "      <td>Lvl</td>\n",
       "      <td>AllPub</td>\n",
       "      <td>...</td>\n",
       "      <td>0</td>\n",
       "      <td>0</td>\n",
       "      <td>NaN</td>\n",
       "      <td>NaN</td>\n",
       "      <td>NaN</td>\n",
       "      <td>0</td>\n",
       "      <td>6</td>\n",
       "      <td>2010</td>\n",
       "      <td>WD</td>\n",
       "      <td>Normal</td>\n",
       "    </tr>\n",
       "    <tr>\n",
       "      <th>4</th>\n",
       "      <td>1465</td>\n",
       "      <td>120</td>\n",
       "      <td>RL</td>\n",
       "      <td>43.0</td>\n",
       "      <td>5005</td>\n",
       "      <td>Pave</td>\n",
       "      <td>NaN</td>\n",
       "      <td>IR1</td>\n",
       "      <td>HLS</td>\n",
       "      <td>AllPub</td>\n",
       "      <td>...</td>\n",
       "      <td>144</td>\n",
       "      <td>0</td>\n",
       "      <td>NaN</td>\n",
       "      <td>NaN</td>\n",
       "      <td>NaN</td>\n",
       "      <td>0</td>\n",
       "      <td>1</td>\n",
       "      <td>2010</td>\n",
       "      <td>WD</td>\n",
       "      <td>Normal</td>\n",
       "    </tr>\n",
       "  </tbody>\n",
       "</table>\n",
       "<p>5 rows × 80 columns</p>\n",
       "</div>"
      ],
      "text/plain": [
       "     Id  MSSubClass MSZoning  LotFrontage  LotArea Street Alley LotShape  \\\n",
       "0  1461          20       RH         80.0    11622   Pave   NaN      Reg   \n",
       "1  1462          20       RL         81.0    14267   Pave   NaN      IR1   \n",
       "2  1463          60       RL         74.0    13830   Pave   NaN      IR1   \n",
       "3  1464          60       RL         78.0     9978   Pave   NaN      IR1   \n",
       "4  1465         120       RL         43.0     5005   Pave   NaN      IR1   \n",
       "\n",
       "  LandContour Utilities  ... ScreenPorch PoolArea PoolQC  Fence MiscFeature  \\\n",
       "0         Lvl    AllPub  ...         120        0    NaN  MnPrv         NaN   \n",
       "1         Lvl    AllPub  ...           0        0    NaN    NaN        Gar2   \n",
       "2         Lvl    AllPub  ...           0        0    NaN  MnPrv         NaN   \n",
       "3         Lvl    AllPub  ...           0        0    NaN    NaN         NaN   \n",
       "4         HLS    AllPub  ...         144        0    NaN    NaN         NaN   \n",
       "\n",
       "  MiscVal MoSold  YrSold  SaleType  SaleCondition  \n",
       "0       0      6    2010        WD         Normal  \n",
       "1   12500      6    2010        WD         Normal  \n",
       "2       0      3    2010        WD         Normal  \n",
       "3       0      6    2010        WD         Normal  \n",
       "4       0      1    2010        WD         Normal  \n",
       "\n",
       "[5 rows x 80 columns]"
      ]
     },
     "execution_count": 3,
     "metadata": {},
     "output_type": "execute_result"
    }
   ],
   "source": [
    "dftt=pd.read_csv('/kaggle/input/house-prices-advanced-regression-techniques/test.csv')\n",
    "dftt.head()"
   ]
  },
  {
   "cell_type": "markdown",
   "id": "92836c4a",
   "metadata": {
    "papermill": {
     "duration": 0.005563,
     "end_time": "2025-06-15T11:53:27.162952",
     "exception": false,
     "start_time": "2025-06-15T11:53:27.157389",
     "status": "completed"
    },
    "tags": []
   },
   "source": [
    "### Count Rows and Columns of each Dataframe "
   ]
  },
  {
   "cell_type": "code",
   "execution_count": 4,
   "id": "1eaf49f2",
   "metadata": {
    "execution": {
     "iopub.execute_input": "2025-06-15T11:53:27.176140Z",
     "iopub.status.busy": "2025-06-15T11:53:27.175810Z",
     "iopub.status.idle": "2025-06-15T11:53:27.181800Z",
     "shell.execute_reply": "2025-06-15T11:53:27.180892Z"
    },
    "papermill": {
     "duration": 0.014319,
     "end_time": "2025-06-15T11:53:27.183166",
     "exception": false,
     "start_time": "2025-06-15T11:53:27.168847",
     "status": "completed"
    },
    "tags": []
   },
   "outputs": [
    {
     "data": {
      "text/plain": [
       "((1460, 81), (1459, 80))"
      ]
     },
     "execution_count": 4,
     "metadata": {},
     "output_type": "execute_result"
    }
   ],
   "source": [
    "dftn.shape,dftt.shape"
   ]
  },
  {
   "cell_type": "markdown",
   "id": "935e6c52",
   "metadata": {
    "papermill": {
     "duration": 0.005512,
     "end_time": "2025-06-15T11:53:27.194551",
     "exception": false,
     "start_time": "2025-06-15T11:53:27.189039",
     "status": "completed"
    },
    "tags": []
   },
   "source": [
    "### Combine datasets"
   ]
  },
  {
   "cell_type": "code",
   "execution_count": 5,
   "id": "9d9b6c55",
   "metadata": {
    "execution": {
     "iopub.execute_input": "2025-06-15T11:53:27.206972Z",
     "iopub.status.busy": "2025-06-15T11:53:27.206687Z",
     "iopub.status.idle": "2025-06-15T11:53:27.219951Z",
     "shell.execute_reply": "2025-06-15T11:53:27.219182Z"
    },
    "papermill": {
     "duration": 0.021287,
     "end_time": "2025-06-15T11:53:27.221326",
     "exception": false,
     "start_time": "2025-06-15T11:53:27.200039",
     "status": "completed"
    },
    "tags": []
   },
   "outputs": [],
   "source": [
    "dftn['ind'] = 'train'\n",
    "dftt['ind'] = 'test'\n",
    "dftt['SalePrice'] = np.nan\n",
    "df = pd.concat([dftn, dftt], ignore_index=True)"
   ]
  },
  {
   "cell_type": "markdown",
   "id": "36f5e884",
   "metadata": {
    "papermill": {
     "duration": 0.005398,
     "end_time": "2025-06-15T11:53:27.233038",
     "exception": false,
     "start_time": "2025-06-15T11:53:27.227640",
     "status": "completed"
    },
    "tags": []
   },
   "source": [
    "## Cleaning the datasets"
   ]
  },
  {
   "cell_type": "markdown",
   "id": "d023f19b",
   "metadata": {
    "papermill": {
     "duration": 0.005386,
     "end_time": "2025-06-15T11:53:27.244032",
     "exception": false,
     "start_time": "2025-06-15T11:53:27.238646",
     "status": "completed"
    },
    "tags": []
   },
   "source": [
    "### Now get the info. on data types, missing values, features etc."
   ]
  },
  {
   "cell_type": "code",
   "execution_count": 6,
   "id": "e86edb6e",
   "metadata": {
    "execution": {
     "iopub.execute_input": "2025-06-15T11:53:27.256652Z",
     "iopub.status.busy": "2025-06-15T11:53:27.256057Z",
     "iopub.status.idle": "2025-06-15T11:53:27.285395Z",
     "shell.execute_reply": "2025-06-15T11:53:27.284577Z"
    },
    "papermill": {
     "duration": 0.037313,
     "end_time": "2025-06-15T11:53:27.286927",
     "exception": false,
     "start_time": "2025-06-15T11:53:27.249614",
     "status": "completed"
    },
    "tags": []
   },
   "outputs": [
    {
     "name": "stdout",
     "output_type": "stream",
     "text": [
      "<class 'pandas.core.frame.DataFrame'>\n",
      "RangeIndex: 2919 entries, 0 to 2918\n",
      "Data columns (total 82 columns):\n",
      " #   Column         Non-Null Count  Dtype  \n",
      "---  ------         --------------  -----  \n",
      " 0   Id             2919 non-null   int64  \n",
      " 1   MSSubClass     2919 non-null   int64  \n",
      " 2   MSZoning       2915 non-null   object \n",
      " 3   LotFrontage    2433 non-null   float64\n",
      " 4   LotArea        2919 non-null   int64  \n",
      " 5   Street         2919 non-null   object \n",
      " 6   Alley          198 non-null    object \n",
      " 7   LotShape       2919 non-null   object \n",
      " 8   LandContour    2919 non-null   object \n",
      " 9   Utilities      2917 non-null   object \n",
      " 10  LotConfig      2919 non-null   object \n",
      " 11  LandSlope      2919 non-null   object \n",
      " 12  Neighborhood   2919 non-null   object \n",
      " 13  Condition1     2919 non-null   object \n",
      " 14  Condition2     2919 non-null   object \n",
      " 15  BldgType       2919 non-null   object \n",
      " 16  HouseStyle     2919 non-null   object \n",
      " 17  OverallQual    2919 non-null   int64  \n",
      " 18  OverallCond    2919 non-null   int64  \n",
      " 19  YearBuilt      2919 non-null   int64  \n",
      " 20  YearRemodAdd   2919 non-null   int64  \n",
      " 21  RoofStyle      2919 non-null   object \n",
      " 22  RoofMatl       2919 non-null   object \n",
      " 23  Exterior1st    2918 non-null   object \n",
      " 24  Exterior2nd    2918 non-null   object \n",
      " 25  MasVnrType     1153 non-null   object \n",
      " 26  MasVnrArea     2896 non-null   float64\n",
      " 27  ExterQual      2919 non-null   object \n",
      " 28  ExterCond      2919 non-null   object \n",
      " 29  Foundation     2919 non-null   object \n",
      " 30  BsmtQual       2838 non-null   object \n",
      " 31  BsmtCond       2837 non-null   object \n",
      " 32  BsmtExposure   2837 non-null   object \n",
      " 33  BsmtFinType1   2840 non-null   object \n",
      " 34  BsmtFinSF1     2918 non-null   float64\n",
      " 35  BsmtFinType2   2839 non-null   object \n",
      " 36  BsmtFinSF2     2918 non-null   float64\n",
      " 37  BsmtUnfSF      2918 non-null   float64\n",
      " 38  TotalBsmtSF    2918 non-null   float64\n",
      " 39  Heating        2919 non-null   object \n",
      " 40  HeatingQC      2919 non-null   object \n",
      " 41  CentralAir     2919 non-null   object \n",
      " 42  Electrical     2918 non-null   object \n",
      " 43  1stFlrSF       2919 non-null   int64  \n",
      " 44  2ndFlrSF       2919 non-null   int64  \n",
      " 45  LowQualFinSF   2919 non-null   int64  \n",
      " 46  GrLivArea      2919 non-null   int64  \n",
      " 47  BsmtFullBath   2917 non-null   float64\n",
      " 48  BsmtHalfBath   2917 non-null   float64\n",
      " 49  FullBath       2919 non-null   int64  \n",
      " 50  HalfBath       2919 non-null   int64  \n",
      " 51  BedroomAbvGr   2919 non-null   int64  \n",
      " 52  KitchenAbvGr   2919 non-null   int64  \n",
      " 53  KitchenQual    2918 non-null   object \n",
      " 54  TotRmsAbvGrd   2919 non-null   int64  \n",
      " 55  Functional     2917 non-null   object \n",
      " 56  Fireplaces     2919 non-null   int64  \n",
      " 57  FireplaceQu    1499 non-null   object \n",
      " 58  GarageType     2762 non-null   object \n",
      " 59  GarageYrBlt    2760 non-null   float64\n",
      " 60  GarageFinish   2760 non-null   object \n",
      " 61  GarageCars     2918 non-null   float64\n",
      " 62  GarageArea     2918 non-null   float64\n",
      " 63  GarageQual     2760 non-null   object \n",
      " 64  GarageCond     2760 non-null   object \n",
      " 65  PavedDrive     2919 non-null   object \n",
      " 66  WoodDeckSF     2919 non-null   int64  \n",
      " 67  OpenPorchSF    2919 non-null   int64  \n",
      " 68  EnclosedPorch  2919 non-null   int64  \n",
      " 69  3SsnPorch      2919 non-null   int64  \n",
      " 70  ScreenPorch    2919 non-null   int64  \n",
      " 71  PoolArea       2919 non-null   int64  \n",
      " 72  PoolQC         10 non-null     object \n",
      " 73  Fence          571 non-null    object \n",
      " 74  MiscFeature    105 non-null    object \n",
      " 75  MiscVal        2919 non-null   int64  \n",
      " 76  MoSold         2919 non-null   int64  \n",
      " 77  YrSold         2919 non-null   int64  \n",
      " 78  SaleType       2918 non-null   object \n",
      " 79  SaleCondition  2919 non-null   object \n",
      " 80  SalePrice      1460 non-null   float64\n",
      " 81  ind            2919 non-null   object \n",
      "dtypes: float64(12), int64(26), object(44)\n",
      "memory usage: 1.8+ MB\n"
     ]
    }
   ],
   "source": [
    "df.info()"
   ]
  },
  {
   "cell_type": "markdown",
   "id": "3dc9f8f4",
   "metadata": {
    "papermill": {
     "duration": 0.00607,
     "end_time": "2025-06-15T11:53:27.298985",
     "exception": false,
     "start_time": "2025-06-15T11:53:27.292915",
     "status": "completed"
    },
    "tags": []
   },
   "source": [
    "### Let's deal with missing values."
   ]
  },
  {
   "cell_type": "code",
   "execution_count": 7,
   "id": "f2ff461d",
   "metadata": {
    "execution": {
     "iopub.execute_input": "2025-06-15T11:53:27.312616Z",
     "iopub.status.busy": "2025-06-15T11:53:27.312265Z",
     "iopub.status.idle": "2025-06-15T11:53:27.348434Z",
     "shell.execute_reply": "2025-06-15T11:53:27.347534Z"
    },
    "papermill": {
     "duration": 0.044776,
     "end_time": "2025-06-15T11:53:27.350112",
     "exception": false,
     "start_time": "2025-06-15T11:53:27.305336",
     "status": "completed"
    },
    "tags": []
   },
   "outputs": [],
   "source": [
    "for col in df.columns:\n",
    "    if df[col].dtype == 'object':\n",
    "        df[col] = df[col].fillna(\"None\") \n",
    "    else:\n",
    "        df[col] = df[col].fillna(df[col].mean()) "
   ]
  },
  {
   "cell_type": "markdown",
   "id": "eca26628",
   "metadata": {
    "papermill": {
     "duration": 0.005742,
     "end_time": "2025-06-15T11:53:27.361830",
     "exception": false,
     "start_time": "2025-06-15T11:53:27.356088",
     "status": "completed"
    },
    "tags": []
   },
   "source": [
    "### Let's get the info. again"
   ]
  },
  {
   "cell_type": "code",
   "execution_count": 8,
   "id": "7039cf3c",
   "metadata": {
    "execution": {
     "iopub.execute_input": "2025-06-15T11:53:27.374680Z",
     "iopub.status.busy": "2025-06-15T11:53:27.374361Z",
     "iopub.status.idle": "2025-06-15T11:53:27.398029Z",
     "shell.execute_reply": "2025-06-15T11:53:27.396901Z"
    },
    "papermill": {
     "duration": 0.031892,
     "end_time": "2025-06-15T11:53:27.399633",
     "exception": false,
     "start_time": "2025-06-15T11:53:27.367741",
     "status": "completed"
    },
    "tags": []
   },
   "outputs": [
    {
     "name": "stdout",
     "output_type": "stream",
     "text": [
      "<class 'pandas.core.frame.DataFrame'>\n",
      "RangeIndex: 2919 entries, 0 to 2918\n",
      "Data columns (total 82 columns):\n",
      " #   Column         Non-Null Count  Dtype  \n",
      "---  ------         --------------  -----  \n",
      " 0   Id             2919 non-null   int64  \n",
      " 1   MSSubClass     2919 non-null   int64  \n",
      " 2   MSZoning       2919 non-null   object \n",
      " 3   LotFrontage    2919 non-null   float64\n",
      " 4   LotArea        2919 non-null   int64  \n",
      " 5   Street         2919 non-null   object \n",
      " 6   Alley          2919 non-null   object \n",
      " 7   LotShape       2919 non-null   object \n",
      " 8   LandContour    2919 non-null   object \n",
      " 9   Utilities      2919 non-null   object \n",
      " 10  LotConfig      2919 non-null   object \n",
      " 11  LandSlope      2919 non-null   object \n",
      " 12  Neighborhood   2919 non-null   object \n",
      " 13  Condition1     2919 non-null   object \n",
      " 14  Condition2     2919 non-null   object \n",
      " 15  BldgType       2919 non-null   object \n",
      " 16  HouseStyle     2919 non-null   object \n",
      " 17  OverallQual    2919 non-null   int64  \n",
      " 18  OverallCond    2919 non-null   int64  \n",
      " 19  YearBuilt      2919 non-null   int64  \n",
      " 20  YearRemodAdd   2919 non-null   int64  \n",
      " 21  RoofStyle      2919 non-null   object \n",
      " 22  RoofMatl       2919 non-null   object \n",
      " 23  Exterior1st    2919 non-null   object \n",
      " 24  Exterior2nd    2919 non-null   object \n",
      " 25  MasVnrType     2919 non-null   object \n",
      " 26  MasVnrArea     2919 non-null   float64\n",
      " 27  ExterQual      2919 non-null   object \n",
      " 28  ExterCond      2919 non-null   object \n",
      " 29  Foundation     2919 non-null   object \n",
      " 30  BsmtQual       2919 non-null   object \n",
      " 31  BsmtCond       2919 non-null   object \n",
      " 32  BsmtExposure   2919 non-null   object \n",
      " 33  BsmtFinType1   2919 non-null   object \n",
      " 34  BsmtFinSF1     2919 non-null   float64\n",
      " 35  BsmtFinType2   2919 non-null   object \n",
      " 36  BsmtFinSF2     2919 non-null   float64\n",
      " 37  BsmtUnfSF      2919 non-null   float64\n",
      " 38  TotalBsmtSF    2919 non-null   float64\n",
      " 39  Heating        2919 non-null   object \n",
      " 40  HeatingQC      2919 non-null   object \n",
      " 41  CentralAir     2919 non-null   object \n",
      " 42  Electrical     2919 non-null   object \n",
      " 43  1stFlrSF       2919 non-null   int64  \n",
      " 44  2ndFlrSF       2919 non-null   int64  \n",
      " 45  LowQualFinSF   2919 non-null   int64  \n",
      " 46  GrLivArea      2919 non-null   int64  \n",
      " 47  BsmtFullBath   2919 non-null   float64\n",
      " 48  BsmtHalfBath   2919 non-null   float64\n",
      " 49  FullBath       2919 non-null   int64  \n",
      " 50  HalfBath       2919 non-null   int64  \n",
      " 51  BedroomAbvGr   2919 non-null   int64  \n",
      " 52  KitchenAbvGr   2919 non-null   int64  \n",
      " 53  KitchenQual    2919 non-null   object \n",
      " 54  TotRmsAbvGrd   2919 non-null   int64  \n",
      " 55  Functional     2919 non-null   object \n",
      " 56  Fireplaces     2919 non-null   int64  \n",
      " 57  FireplaceQu    2919 non-null   object \n",
      " 58  GarageType     2919 non-null   object \n",
      " 59  GarageYrBlt    2919 non-null   float64\n",
      " 60  GarageFinish   2919 non-null   object \n",
      " 61  GarageCars     2919 non-null   float64\n",
      " 62  GarageArea     2919 non-null   float64\n",
      " 63  GarageQual     2919 non-null   object \n",
      " 64  GarageCond     2919 non-null   object \n",
      " 65  PavedDrive     2919 non-null   object \n",
      " 66  WoodDeckSF     2919 non-null   int64  \n",
      " 67  OpenPorchSF    2919 non-null   int64  \n",
      " 68  EnclosedPorch  2919 non-null   int64  \n",
      " 69  3SsnPorch      2919 non-null   int64  \n",
      " 70  ScreenPorch    2919 non-null   int64  \n",
      " 71  PoolArea       2919 non-null   int64  \n",
      " 72  PoolQC         2919 non-null   object \n",
      " 73  Fence          2919 non-null   object \n",
      " 74  MiscFeature    2919 non-null   object \n",
      " 75  MiscVal        2919 non-null   int64  \n",
      " 76  MoSold         2919 non-null   int64  \n",
      " 77  YrSold         2919 non-null   int64  \n",
      " 78  SaleType       2919 non-null   object \n",
      " 79  SaleCondition  2919 non-null   object \n",
      " 80  SalePrice      2919 non-null   float64\n",
      " 81  ind            2919 non-null   object \n",
      "dtypes: float64(12), int64(26), object(44)\n",
      "memory usage: 1.8+ MB\n"
     ]
    }
   ],
   "source": [
    "df.info()"
   ]
  },
  {
   "cell_type": "markdown",
   "id": "1170c791",
   "metadata": {
    "papermill": {
     "duration": 0.005975,
     "end_time": "2025-06-15T11:53:27.412069",
     "exception": false,
     "start_time": "2025-06-15T11:53:27.406094",
     "status": "completed"
    },
    "tags": []
   },
   "source": []
  },
  {
   "cell_type": "markdown",
   "id": "833955f8",
   "metadata": {
    "papermill": {
     "duration": 0.005894,
     "end_time": "2025-06-15T11:53:27.423991",
     "exception": false,
     "start_time": "2025-06-15T11:53:27.418097",
     "status": "completed"
    },
    "tags": []
   },
   "source": [
    "### This section provides an analysis of sales trends over different years, categorized by sale types and conditions, offering valuable insights into market patterns."
   ]
  },
  {
   "cell_type": "code",
   "execution_count": 9,
   "id": "de79c236",
   "metadata": {
    "execution": {
     "iopub.execute_input": "2025-06-15T11:53:27.437506Z",
     "iopub.status.busy": "2025-06-15T11:53:27.437188Z",
     "iopub.status.idle": "2025-06-15T11:53:30.494154Z",
     "shell.execute_reply": "2025-06-15T11:53:30.493120Z"
    },
    "papermill": {
     "duration": 3.065454,
     "end_time": "2025-06-15T11:53:30.495657",
     "exception": false,
     "start_time": "2025-06-15T11:53:27.430203",
     "status": "completed"
    },
    "tags": []
   },
   "outputs": [
    {
     "data": {
      "image/png": "[encoded data removed]",
      "text/plain": [
       "<Figure size 1200x600 with 1 Axes>"
      ]
     },
     "metadata": {},
     "output_type": "display_data"
    }
   ],
   "source": [
    "import seaborn as sns\n",
    "import matplotlib.pyplot as plt\n",
    "\n",
    "plt.figure(figsize=(12, 6))\n",
    "\n",
    "# Create the bar plot with a cooler palette\n",
    "sns.barplot(data=df, x='YrSold', y='SalePrice', hue='SaleType', palette='coolwarm')\n",
    "\n",
    "plt.xlabel(\"Year Sold\", fontsize=12)\n",
    "plt.ylabel(\"Average Sale Price\", fontsize=12)\n",
    "plt.title(\"Yearly Sales Price Distribution by Sale Type\", fontsize=14)\n",
    "\n",
    "plt.grid(axis='y', linestyle='--', alpha=0.7)\n",
    "\n",
    "plt.show()\n"
   ]
  },
  {
   "cell_type": "code",
   "execution_count": 10,
   "id": "eb8b23db",
   "metadata": {
    "execution": {
     "iopub.execute_input": "2025-06-15T11:53:30.511801Z",
     "iopub.status.busy": "2025-06-15T11:53:30.511283Z",
     "iopub.status.idle": "2025-06-15T11:53:31.366317Z",
     "shell.execute_reply": "2025-06-15T11:53:31.365436Z"
    },
    "papermill": {
     "duration": 0.865159,
     "end_time": "2025-06-15T11:53:31.368321",
     "exception": false,
     "start_time": "2025-06-15T11:53:30.503162",
     "status": "completed"
    },
    "tags": []
   },
   "outputs": [
    {
     "data": {
      "image/png": "[encoded data removed]",
      "text/plain": [
       "<Figure size 1200x600 with 1 Axes>"
      ]
     },
     "metadata": {},
     "output_type": "display_data"
    }
   ],
   "source": [
    "plt.figure(figsize=(12, 6))\n",
    "\n",
    "# Create the bar plot with a cooler palette\n",
    "sns.barplot(data=df, x='YrSold', y='SalePrice', hue='SaleCondition', palette='Set1')\n",
    "\n",
    "# Add labels and title\n",
    "plt.xlabel(\"Year Sold\", fontsize=12)\n",
    "plt.ylabel(\"Average Sale Price\", fontsize=12)\n",
    "plt.title(\"Yearly Sales Price Distribution by Sale Condition\", fontsize=14)\n",
    "\n",
    "# Add gridlines for better readability\n",
    "plt.grid(axis='y', linestyle='--', alpha=0.7)\n",
    "\n",
    "# Show the plot\n",
    "plt.show()\n"
   ]
  },
  {
   "cell_type": "markdown",
   "id": "966e23cc",
   "metadata": {
    "papermill": {
     "duration": 0.007507,
     "end_time": "2025-06-15T11:53:31.383965",
     "exception": false,
     "start_time": "2025-06-15T11:53:31.376458",
     "status": "completed"
    },
    "tags": []
   },
   "source": [
    "## Feature Engineering"
   ]
  },
  {
   "cell_type": "code",
   "execution_count": 11,
   "id": "5f96e750",
   "metadata": {
    "execution": {
     "iopub.execute_input": "2025-06-15T11:53:31.401172Z",
     "iopub.status.busy": "2025-06-15T11:53:31.400474Z",
     "iopub.status.idle": "2025-06-15T11:53:31.423315Z",
     "shell.execute_reply": "2025-06-15T11:53:31.422511Z"
    },
    "papermill": {
     "duration": 0.033249,
     "end_time": "2025-06-15T11:53:31.424908",
     "exception": false,
     "start_time": "2025-06-15T11:53:31.391659",
     "status": "completed"
    },
    "tags": []
   },
   "outputs": [],
   "source": [
    "df[\"TotalSF\"] = df[\"TotalBsmtSF\"] + df[\"1stFlrSF\"] + df[\"2ndFlrSF\"]\n",
    "df[\"TotalBath\"] = df[\"FullBath\"] + 0.5 * df[\"HalfBath\"] + df[\"BsmtFullBath\"] + 0.5 * df[\"BsmtHalfBath\"]\n",
    "df[\"Age\"] = df[\"YrSold\"] - df[\"YearBuilt\"]\n",
    "df[\"RemodAge\"] = df[\"YrSold\"] - df[\"YearRemodAdd\"]\n",
    "df[\"IsRemodeled\"] = (df[\"YearBuilt\"] != df[\"YearRemodAdd\"]).astype(int)\n",
    "df[\"IsNew\"] = (df[\"YearBuilt\"] == df[\"YrSold\"]).astype(int)\n",
    "df[\"HasPool\"] = df[\"PoolArea\"].apply(lambda x: 1 if x > 0 else 0)\n",
    "df[\"HasGarage\"] = df[\"GarageArea\"].apply(lambda x: 1 if x > 0 else 0)\n",
    "df[\"HasBsmt\"] = df[\"TotalBsmtSF\"].apply(lambda x: 1 if x > 0 else 0)\n",
    "df[\"HasFireplace\"] = df[\"Fireplaces\"].apply(lambda x: 1 if x > 0 else 0)\n",
    "df[\"LogLotArea\"] = np.log1p(df[\"LotArea\"])\n",
    "df[\"LogGrLivArea\"] = np.log1p(df[\"GrLivArea\"])\n",
    "df[\"LogTotalSF\"] = np.log1p(df[\"TotalSF\"])"
   ]
  },
  {
   "cell_type": "markdown",
   "id": "42fe0ea6",
   "metadata": {
    "papermill": {
     "duration": 0.007529,
     "end_time": "2025-06-15T11:53:31.440298",
     "exception": false,
     "start_time": "2025-06-15T11:53:31.432769",
     "status": "completed"
    },
    "tags": []
   },
   "source": [
    "## Building the Predictive model"
   ]
  },
  {
   "cell_type": "markdown",
   "id": "939c7b4e",
   "metadata": {
    "papermill": {
     "duration": 0.007539,
     "end_time": "2025-06-15T11:53:31.455683",
     "exception": false,
     "start_time": "2025-06-15T11:53:31.448144",
     "status": "completed"
    },
    "tags": []
   },
   "source": [
    "#### Drop irrelavent feature "
   ]
  },
  {
   "cell_type": "code",
   "execution_count": 12,
   "id": "9c5abb47",
   "metadata": {
    "execution": {
     "iopub.execute_input": "2025-06-15T11:53:31.472946Z",
     "iopub.status.busy": "2025-06-15T11:53:31.472626Z",
     "iopub.status.idle": "2025-06-15T11:53:31.481970Z",
     "shell.execute_reply": "2025-06-15T11:53:31.481112Z"
    },
    "papermill": {
     "duration": 0.01997,
     "end_time": "2025-06-15T11:53:31.483632",
     "exception": false,
     "start_time": "2025-06-15T11:53:31.463662",
     "status": "completed"
    },
    "tags": []
   },
   "outputs": [],
   "source": [
    "df=df.drop(\"Id\",axis=1)"
   ]
  },
  {
   "cell_type": "markdown",
   "id": "f66359dc",
   "metadata": {
    "papermill": {
     "duration": 0.00756,
     "end_time": "2025-06-15T11:53:31.500485",
     "exception": false,
     "start_time": "2025-06-15T11:53:31.492925",
     "status": "completed"
    },
    "tags": []
   },
   "source": [
    "#### Encode the objects"
   ]
  },
  {
   "cell_type": "code",
   "execution_count": 13,
   "id": "36677cdb",
   "metadata": {
    "execution": {
     "iopub.execute_input": "2025-06-15T11:53:31.517509Z",
     "iopub.status.busy": "2025-06-15T11:53:31.517231Z",
     "iopub.status.idle": "2025-06-15T11:53:32.117930Z",
     "shell.execute_reply": "2025-06-15T11:53:32.117072Z"
    },
    "papermill": {
     "duration": 0.611022,
     "end_time": "2025-06-15T11:53:32.119424",
     "exception": false,
     "start_time": "2025-06-15T11:53:31.508402",
     "status": "completed"
    },
    "tags": []
   },
   "outputs": [],
   "source": [
    "from sklearn.compose import ColumnTransformer\n",
    "from sklearn.pipeline import Pipeline\n",
    "from sklearn.preprocessing import OneHotEncoder, StandardScaler\n",
    "from sklearn.impute import SimpleImputer\n",
    "\n",
    "cat_cols = df.select_dtypes(include=['object', 'category']).columns.tolist()\n",
    "num_cols = df.select_dtypes(include=['int64', 'float64']).columns.tolist()\n",
    "\n",
    "num_transformer = Pipeline(steps=[\n",
    "    ('imputer', SimpleImputer(strategy='mean')),  # Or median\n",
    "    ('scaler', StandardScaler())\n",
    "])\n",
    "\n",
    "cat_transformer = Pipeline(steps=[\n",
    "    ('imputer', SimpleImputer(strategy='most_frequent')),\n",
    "    ('onehot', OneHotEncoder(handle_unknown='ignore', sparse=False))\n",
    "])\n",
    "\n",
    "# Column transformer\n",
    "preprocessor = ColumnTransformer(transformers=[\n",
    "    ('num', num_transformer, num_cols),\n",
    "    ('cat', cat_transformer, cat_cols)\n",
    "])"
   ]
  },
  {
   "cell_type": "markdown",
   "id": "6c4bd602",
   "metadata": {
    "papermill": {
     "duration": 0.007586,
     "end_time": "2025-06-15T11:53:32.135000",
     "exception": false,
     "start_time": "2025-06-15T11:53:32.127414",
     "status": "completed"
    },
    "tags": []
   },
   "source": [
    "#### Split the model for training and testing"
   ]
  },
  {
   "cell_type": "code",
   "execution_count": 14,
   "id": "383dbc75",
   "metadata": {
    "execution": {
     "iopub.execute_input": "2025-06-15T11:53:32.152331Z",
     "iopub.status.busy": "2025-06-15T11:53:32.151425Z",
     "iopub.status.idle": "2025-06-15T11:53:32.299417Z",
     "shell.execute_reply": "2025-06-15T11:53:32.298402Z"
    },
    "papermill": {
     "duration": 0.158269,
     "end_time": "2025-06-15T11:53:32.300982",
     "exception": false,
     "start_time": "2025-06-15T11:53:32.142713",
     "status": "completed"
    },
    "tags": []
   },
   "outputs": [
    {
     "name": "stdout",
     "output_type": "stream",
     "text": [
      "X_train shape: (1021, 316)\n",
      "X_valid shape: (438, 316)\n",
      "y_train shape: (1021,)\n",
      "y_valid shape: (438,)\n"
     ]
    },
    {
     "name": "stderr",
     "output_type": "stream",
     "text": [
      "/usr/local/lib/python3.11/dist-packages/sklearn/preprocessing/_encoders.py:868: FutureWarning: `sparse` was renamed to `sparse_output` in version 1.2 and will be removed in 1.4. `sparse_output` is ignored unless you leave `sparse` to its default value.\n",
      "  warnings.warn(\n"
     ]
    }
   ],
   "source": [
    "import numpy as np\n",
    "import pandas as pd\n",
    "from sklearn.model_selection import train_test_split\n",
    "from sklearn.compose import ColumnTransformer\n",
    "from sklearn.pipeline import Pipeline\n",
    "from sklearn.preprocessing import OneHotEncoder, StandardScaler\n",
    "from sklearn.impute import SimpleImputer\n",
    "\n",
    "# Split raw train/test based on 'ind' column\n",
    "train = df[df[\"ind\"] == 1].copy() if df[\"ind\"].dtype != 'object' else df[df[\"ind\"] == \"train\"].copy()\n",
    "test = df[df[\"ind\"] == 0].copy() if df[\"ind\"].dtype != 'object' else df[df[\"ind\"] == \"test\"].copy()\n",
    "\n",
    "train.drop(\"ind\", axis=1, inplace=True)\n",
    "test.drop(\"ind\", axis=1, inplace=True)\n",
    "\n",
    "# Target and features\n",
    "y = np.log(train[\"SalePrice\"])  # log transform\n",
    "X = train.drop(\"SalePrice\", axis=1)\n",
    "X_test = test.drop(\"SalePrice\", axis=1, errors='ignore')  # in case it exists\n",
    "\n",
    "# Identify column types\n",
    "num_cols = X.select_dtypes(include=[\"int64\", \"float64\"]).columns\n",
    "cat_cols = X.select_dtypes(include=[\"object\", \"category\"]).columns\n",
    "\n",
    "# Preprocessing pipelines\n",
    "num_transformer = Pipeline(steps=[\n",
    "    (\"imputer\", SimpleImputer(strategy=\"mean\")),\n",
    "    (\"scaler\", StandardScaler())\n",
    "])\n",
    "\n",
    "cat_transformer = Pipeline(steps=[\n",
    "    (\"imputer\", SimpleImputer(strategy=\"most_frequent\")),\n",
    "    (\"onehot\", OneHotEncoder(handle_unknown=\"ignore\", sparse=False))\n",
    "])\n",
    "\n",
    "# Combine transformers\n",
    "preprocessor = ColumnTransformer(transformers=[\n",
    "    (\"num\", num_transformer, num_cols),\n",
    "    (\"cat\", cat_transformer, cat_cols)\n",
    "])\n",
    "\n",
    "# Fit & transform\n",
    "X_scaled = preprocessor.fit_transform(X)\n",
    "X_test_scaled = preprocessor.transform(X_test)\n",
    "\n",
    "# Split into train and validation\n",
    "X_train, X_valid, y_train, y_valid = train_test_split(\n",
    "    X_scaled, y, train_size=0.7, test_size=0.3, random_state=0\n",
    ")\n",
    "\n",
    "print(f\"X_train shape: {X_train.shape}\")\n",
    "print(f\"X_valid shape: {X_valid.shape}\")\n",
    "print(f\"y_train shape: {y_train.shape}\")\n",
    "print(f\"y_valid shape: {y_valid.shape}\")\n"
   ]
  },
  {
   "cell_type": "markdown",
   "id": "c7e7589e",
   "metadata": {
    "papermill": {
     "duration": 0.009867,
     "end_time": "2025-06-15T11:53:32.319072",
     "exception": false,
     "start_time": "2025-06-15T11:53:32.309205",
     "status": "completed"
    },
    "tags": []
   },
   "source": [
    "#### Now import libraries, fit the model, and get the prediction."
   ]
  },
  {
   "cell_type": "markdown",
   "id": "f451f556",
   "metadata": {
    "papermill": {
     "duration": 0.007856,
     "end_time": "2025-06-15T11:53:32.335140",
     "exception": false,
     "start_time": "2025-06-15T11:53:32.327284",
     "status": "completed"
    },
    "tags": []
   },
   "source": [
    "#### XGBoost"
   ]
  },
  {
   "cell_type": "code",
   "execution_count": 15,
   "id": "dfa2c9c2",
   "metadata": {
    "execution": {
     "iopub.execute_input": "2025-06-15T11:53:32.352430Z",
     "iopub.status.busy": "2025-06-15T11:53:32.352128Z",
     "iopub.status.idle": "2025-06-15T11:54:05.198956Z",
     "shell.execute_reply": "2025-06-15T11:54:05.198280Z"
    },
    "papermill": {
     "duration": 32.865918,
     "end_time": "2025-06-15T11:54:05.208993",
     "exception": false,
     "start_time": "2025-06-15T11:53:32.343075",
     "status": "completed"
    },
    "tags": []
   },
   "outputs": [
    {
     "name": "stdout",
     "output_type": "stream",
     "text": [
      "Fitting 3 folds for each of 25 candidates, totalling 75 fits\n",
      "Best XGBRegressor: XGBRegressor(base_score=None, booster=None, callbacks=None,\n",
      "             colsample_bylevel=None, colsample_bynode=None,\n",
      "             colsample_bytree=0.6, device=None, early_stopping_rounds=None,\n",
      "             enable_categorical=False, eval_metric=None, feature_types=None,\n",
      "             gamma=None, grow_policy=None, importance_type=None,\n",
      "             interaction_constraints=None, learning_rate=0.05, max_bin=None,\n",
      "             max_cat_threshold=None, max_cat_to_onehot=None,\n",
      "             max_delta_step=None, max_depth=5, max_leaves=None,\n",
      "             min_child_weight=None, missing=nan, monotone_constraints=None,\n",
      "             multi_strategy=None, n_estimators=500, n_jobs=-1,\n",
      "             num_parallel_tree=None, random_state=0, ...)\n",
      "Validation RMSE: 0.1181\n"
     ]
    }
   ],
   "source": [
    "from xgboost import XGBRegressor\n",
    "from sklearn.model_selection import RandomizedSearchCV\n",
    "from sklearn.metrics import mean_squared_error\n",
    "import numpy as np\n",
    "\n",
    "xgb_model = XGBRegressor(\n",
    "    objective='reg:squarederror',  # Required to avoid warning\n",
    "    random_state=0,\n",
    "    n_jobs=-1,\n",
    "    verbosity=0\n",
    ")\n",
    "\n",
    "param_dist = {\n",
    "    'n_estimators': [100, 300, 500],\n",
    "    'learning_rate': [0.01, 0.05, 0.1, 0.2],\n",
    "    'max_depth': [3, 5, 7, 10],\n",
    "    'subsample': [0.6, 0.8, 1.0],\n",
    "    'colsample_bytree': [0.6, 0.8, 1.0],\n",
    "    'reg_alpha': [0, 0.1, 0.5],\n",
    "    'reg_lambda': [1, 1.5, 2]\n",
    "}\n",
    "\n",
    "random_search = RandomizedSearchCV(\n",
    "    estimator=xgb_model,\n",
    "    param_distributions=param_dist,\n",
    "    n_iter=25,  # Reduce or increase for faster/slower tuning\n",
    "    scoring='neg_root_mean_squared_error',\n",
    "    cv=3,\n",
    "    verbose=1,\n",
    "    random_state=42,\n",
    "    n_jobs=-1\n",
    ")\n",
    "\n",
    "random_search.fit(X_train, y_train)\n",
    "\n",
    "best_regressor = random_search.best_estimator_\n",
    "print(\"Best XGBRegressor:\", best_regressor)\n",
    "\n",
    "y_pred = best_regressor.predict(X_valid)\n",
    "rmse = mean_squared_error(y_valid, y_pred, squared=False)\n",
    "print(f\"Validation RMSE: {rmse:.4f}\")\n"
   ]
  },
  {
   "cell_type": "markdown",
   "id": "8522c04a",
   "metadata": {
    "papermill": {
     "duration": 0.007849,
     "end_time": "2025-06-15T11:54:05.224985",
     "exception": false,
     "start_time": "2025-06-15T11:54:05.217136",
     "status": "completed"
    },
    "tags": []
   },
   "source": [
    "#### CatBoost"
   ]
  },
  {
   "cell_type": "code",
   "execution_count": 16,
   "id": "23547e54",
   "metadata": {
    "execution": {
     "iopub.execute_input": "2025-06-15T11:54:05.242254Z",
     "iopub.status.busy": "2025-06-15T11:54:05.241950Z",
     "iopub.status.idle": "2025-06-15T11:54:10.022757Z",
     "shell.execute_reply": "2025-06-15T11:54:10.021571Z"
    },
    "papermill": {
     "duration": 4.791743,
     "end_time": "2025-06-15T11:54:10.024652",
     "exception": false,
     "start_time": "2025-06-15T11:54:05.232909",
     "status": "completed"
    },
    "tags": []
   },
   "outputs": [
    {
     "name": "stdout",
     "output_type": "stream",
     "text": [
      "CatBoost RMSE: 0.1215\n"
     ]
    }
   ],
   "source": [
    "from catboost import CatBoostRegressor\n",
    "\n",
    "cat_model = CatBoostRegressor(verbose=0, random_seed=0)\n",
    "cat_model.fit(X_train, y_train)\n",
    "\n",
    "cat_pred = cat_model.predict(X_valid)\n",
    "cat_rmse = mean_squared_error(y_valid, cat_pred, squared=False)\n",
    "print(f\"CatBoost RMSE: {cat_rmse:.4f}\")"
   ]
  },
  {
   "cell_type": "markdown",
   "id": "5042520b",
   "metadata": {
    "papermill": {
     "duration": 0.008106,
     "end_time": "2025-06-15T11:54:10.041247",
     "exception": false,
     "start_time": "2025-06-15T11:54:10.033141",
     "status": "completed"
    },
    "tags": []
   },
   "source": [
    "#### Submission File with better RMSE"
   ]
  },
  {
   "cell_type": "code",
   "execution_count": 17,
   "id": "97b6242e",
   "metadata": {
    "execution": {
     "iopub.execute_input": "2025-06-15T11:54:10.059758Z",
     "iopub.status.busy": "2025-06-15T11:54:10.059388Z",
     "iopub.status.idle": "2025-06-15T11:54:10.106724Z",
     "shell.execute_reply": "2025-06-15T11:54:10.105760Z"
    },
    "papermill": {
     "duration": 0.058144,
     "end_time": "2025-06-15T11:54:10.108101",
     "exception": false,
     "start_time": "2025-06-15T11:54:10.049957",
     "status": "completed"
    },
    "tags": []
   },
   "outputs": [
    {
     "name": "stdout",
     "output_type": "stream",
     "text": [
      "Submission file 'submission.csv' created successfully!\n"
     ]
    }
   ],
   "source": [
    "# Predict on test set with best XGBoost model\n",
    "test_preds_log = best_regressor.predict(X_test_scaled)\n",
    "test_preds = np.expm1(test_preds_log)  # Inverse of log1p()\n",
    "\n",
    "# Get test IDs\n",
    "test_ids = pd.read_csv('/kaggle/input/house-prices-advanced-regression-techniques/test.csv')['Id']\n",
    "\n",
    "# Create submission DataFrame\n",
    "submission = pd.DataFrame({\n",
    "    'Id': test_ids,\n",
    "    'SalePrice': test_preds\n",
    "})\n",
    "\n",
    "# Save the submission\n",
    "submission.to_csv('submission.csv', index=False)\n",
    "print(\"Submission file 'submission.csv' created successfully!\")"
   ]
  }
 ],
 "metadata": {
  "kaggle": {
   "accelerator": "none",
   "dataSources": [
    {
     "databundleVersionId": 868283,
     "sourceId": 5407,
     "sourceType": "competition"
    }
   ],
   "dockerImageVersionId": 31040,
   "isGpuEnabled": false,
   "isInternetEnabled": true,
   "language": "python",
   "sourceType": "notebook"
  },
  "kernelspec": {
   "display_name": "Python 3",
   "language": "python",
   "name": "python3"
  },
  "language_info": {
   "codemirror_mode": {
    "name": "ipython",
    "version": 3
   },
   "file_extension": ".py",
   "mimetype": "text/x-python",
   "name": "python",
   "nbconvert_exporter": "python",
   "pygments_lexer": "ipython3",
   "version": "3.11.11"
  },
  "papermill": {
   "default_parameters": {},
   "duration": 53.980564,
   "end_time": "2025-06-15T11:54:12.738032",
   "environment_variables": {},
   "exception": null,
   "input_path": "__notebook__.ipynb",
   "output_path": "__notebook__.ipynb",
   "parameters": {},
   "start_time": "2025-06-15T11:53:18.757468",
   "version": "2.6.0"
  }
 },
 "nbformat": 4,
 "nbformat_minor": 5
}
